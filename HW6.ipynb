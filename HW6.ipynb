{
 "cells": [
  {
   "cell_type": "markdown",
   "metadata": {},
   "source": [
    "# Data Analysis/ Preprocessing"
   ]
  },
  {
   "cell_type": "code",
   "execution_count": 3,
   "metadata": {},
   "outputs": [],
   "source": [
    "import pandas as pd\n",
    "import numpy as np\n",
    "import matplotlib.pyplot as plt\n",
    "import mne, glob\n",
    "from scipy.io import loadmat"
   ]
  },
  {
   "cell_type": "code",
   "execution_count": 2,
   "metadata": {},
   "outputs": [],
   "source": [
    "#https://figshare.com/articles/dataset/MAMEM_EEG_SSVEP_Dataset_III_14_channels_11_subjects_5_frequencies_presented_simultaneously_/3413851\n",
    "#target frequencies: (6.66, 7.50, 8.57, 10.00 and 12.00 Hz)"
   ]
  },
  {
   "cell_type": "code",
   "execution_count": 4,
   "metadata": {},
   "outputs": [],
   "source": [
    "folder = \"./tries/\"\n",
    "eeg_df = pd.read_csv(folder+\"U001ai.csv\")\n",
    "\n",
    "matfiles = glob.glob(\"events.mat\")\n",
    "dat = loadmat(matfiles[0])\n"
   ]
  },
  {
   "cell_type": "code",
   "execution_count": 5,
   "metadata": {},
   "outputs": [
    {
     "data": {
      "text/html": [
       "<div>\n",
       "<style scoped>\n",
       "    .dataframe tbody tr th:only-of-type {\n",
       "        vertical-align: middle;\n",
       "    }\n",
       "\n",
       "    .dataframe tbody tr th {\n",
       "        vertical-align: top;\n",
       "    }\n",
       "\n",
       "    .dataframe thead th {\n",
       "        text-align: right;\n",
       "    }\n",
       "</style>\n",
       "<table border=\"1\" class=\"dataframe\">\n",
       "  <thead>\n",
       "    <tr style=\"text-align: right;\">\n",
       "      <th></th>\n",
       "      <th>Time</th>\n",
       "      <th>1</th>\n",
       "      <th>2</th>\n",
       "      <th>3</th>\n",
       "      <th>4</th>\n",
       "      <th>5</th>\n",
       "      <th>6</th>\n",
       "      <th>7</th>\n",
       "      <th>8</th>\n",
       "      <th>9</th>\n",
       "      <th>10</th>\n",
       "      <th>11</th>\n",
       "      <th>12</th>\n",
       "      <th>13</th>\n",
       "      <th>14</th>\n",
       "      <th>15</th>\n",
       "    </tr>\n",
       "  </thead>\n",
       "  <tbody>\n",
       "    <tr>\n",
       "      <th>0</th>\n",
       "      <td>0.0000</td>\n",
       "      <td>6.9739</td>\n",
       "      <td>6.9322</td>\n",
       "      <td>7.1026</td>\n",
       "      <td>6.5821</td>\n",
       "      <td>1.7104</td>\n",
       "      <td>2.5049</td>\n",
       "      <td>6.7734</td>\n",
       "      <td>14.2249</td>\n",
       "      <td>9.3461</td>\n",
       "      <td>12.6649</td>\n",
       "      <td>8.4581</td>\n",
       "      <td>7.2145</td>\n",
       "      <td>10.8199</td>\n",
       "      <td>7.6620</td>\n",
       "      <td>0.0</td>\n",
       "    </tr>\n",
       "    <tr>\n",
       "      <th>1</th>\n",
       "      <td>7.8125</td>\n",
       "      <td>7.9141</td>\n",
       "      <td>8.1761</td>\n",
       "      <td>7.8708</td>\n",
       "      <td>9.3562</td>\n",
       "      <td>2.8522</td>\n",
       "      <td>1.5386</td>\n",
       "      <td>0.0097</td>\n",
       "      <td>7.7515</td>\n",
       "      <td>9.0807</td>\n",
       "      <td>11.3698</td>\n",
       "      <td>9.8010</td>\n",
       "      <td>8.5768</td>\n",
       "      <td>13.4646</td>\n",
       "      <td>8.5372</td>\n",
       "      <td>0.0</td>\n",
       "    </tr>\n",
       "    <tr>\n",
       "      <th>2</th>\n",
       "      <td>15.6250</td>\n",
       "      <td>7.3519</td>\n",
       "      <td>7.6082</td>\n",
       "      <td>6.8952</td>\n",
       "      <td>10.5481</td>\n",
       "      <td>3.3565</td>\n",
       "      <td>0.1431</td>\n",
       "      <td>-7.9001</td>\n",
       "      <td>-1.5285</td>\n",
       "      <td>6.7772</td>\n",
       "      <td>7.1663</td>\n",
       "      <td>8.7549</td>\n",
       "      <td>8.2436</td>\n",
       "      <td>12.8546</td>\n",
       "      <td>7.3061</td>\n",
       "      <td>0.0</td>\n",
       "    </tr>\n",
       "    <tr>\n",
       "      <th>3</th>\n",
       "      <td>23.4375</td>\n",
       "      <td>5.1758</td>\n",
       "      <td>5.0452</td>\n",
       "      <td>4.1830</td>\n",
       "      <td>9.5852</td>\n",
       "      <td>2.7879</td>\n",
       "      <td>-1.5613</td>\n",
       "      <td>-15.0065</td>\n",
       "      <td>-11.1183</td>\n",
       "      <td>2.7676</td>\n",
       "      <td>0.7851</td>\n",
       "      <td>5.0990</td>\n",
       "      <td>5.8934</td>\n",
       "      <td>8.6539</td>\n",
       "      <td>3.9140</td>\n",
       "      <td>0.0</td>\n",
       "    </tr>\n",
       "    <tr>\n",
       "      <th>4</th>\n",
       "      <td>31.2500</td>\n",
       "      <td>1.6995</td>\n",
       "      <td>0.8580</td>\n",
       "      <td>0.2629</td>\n",
       "      <td>6.3879</td>\n",
       "      <td>1.0203</td>\n",
       "      <td>-3.4012</td>\n",
       "      <td>-19.4232</td>\n",
       "      <td>-18.2671</td>\n",
       "      <td>-2.1636</td>\n",
       "      <td>-6.3391</td>\n",
       "      <td>-0.5606</td>\n",
       "      <td>1.7797</td>\n",
       "      <td>1.6455</td>\n",
       "      <td>-1.0385</td>\n",
       "      <td>0.0</td>\n",
       "    </tr>\n",
       "    <tr>\n",
       "      <th>...</th>\n",
       "      <td>...</td>\n",
       "      <td>...</td>\n",
       "      <td>...</td>\n",
       "      <td>...</td>\n",
       "      <td>...</td>\n",
       "      <td>...</td>\n",
       "      <td>...</td>\n",
       "      <td>...</td>\n",
       "      <td>...</td>\n",
       "      <td>...</td>\n",
       "      <td>...</td>\n",
       "      <td>...</td>\n",
       "      <td>...</td>\n",
       "      <td>...</td>\n",
       "      <td>...</td>\n",
       "      <td>...</td>\n",
       "    </tr>\n",
       "    <tr>\n",
       "      <th>17787</th>\n",
       "      <td>138960.9375</td>\n",
       "      <td>-6.0399</td>\n",
       "      <td>-4.8323</td>\n",
       "      <td>-5.0927</td>\n",
       "      <td>-4.9968</td>\n",
       "      <td>-4.8824</td>\n",
       "      <td>-5.0700</td>\n",
       "      <td>-5.0636</td>\n",
       "      <td>-5.1674</td>\n",
       "      <td>-4.8204</td>\n",
       "      <td>-5.4288</td>\n",
       "      <td>-10.1374</td>\n",
       "      <td>-5.5791</td>\n",
       "      <td>-5.2607</td>\n",
       "      <td>-5.0845</td>\n",
       "      <td>0.0</td>\n",
       "    </tr>\n",
       "    <tr>\n",
       "      <th>17788</th>\n",
       "      <td>138968.7500</td>\n",
       "      <td>-5.4750</td>\n",
       "      <td>-4.3214</td>\n",
       "      <td>-4.5884</td>\n",
       "      <td>-4.4572</td>\n",
       "      <td>-4.4641</td>\n",
       "      <td>-4.6841</td>\n",
       "      <td>-4.9248</td>\n",
       "      <td>-4.4180</td>\n",
       "      <td>-4.2093</td>\n",
       "      <td>-4.6997</td>\n",
       "      <td>-9.0893</td>\n",
       "      <td>-4.9611</td>\n",
       "      <td>-4.7169</td>\n",
       "      <td>-4.5362</td>\n",
       "      <td>0.0</td>\n",
       "    </tr>\n",
       "    <tr>\n",
       "      <th>17789</th>\n",
       "      <td>138976.5625</td>\n",
       "      <td>-5.7512</td>\n",
       "      <td>-4.5558</td>\n",
       "      <td>-4.8286</td>\n",
       "      <td>-4.7329</td>\n",
       "      <td>-4.8624</td>\n",
       "      <td>-5.0746</td>\n",
       "      <td>-5.4562</td>\n",
       "      <td>-4.5852</td>\n",
       "      <td>-4.4190</td>\n",
       "      <td>-4.7919</td>\n",
       "      <td>-9.5092</td>\n",
       "      <td>-4.9946</td>\n",
       "      <td>-4.8802</td>\n",
       "      <td>-4.6183</td>\n",
       "      <td>0.0</td>\n",
       "    </tr>\n",
       "    <tr>\n",
       "      <th>17790</th>\n",
       "      <td>138984.3750</td>\n",
       "      <td>-6.0096</td>\n",
       "      <td>-4.8120</td>\n",
       "      <td>-5.0684</td>\n",
       "      <td>-5.0460</td>\n",
       "      <td>-5.2511</td>\n",
       "      <td>-5.4070</td>\n",
       "      <td>-5.7562</td>\n",
       "      <td>-4.9003</td>\n",
       "      <td>-4.7309</td>\n",
       "      <td>-5.0272</td>\n",
       "      <td>-9.9559</td>\n",
       "      <td>-5.0331</td>\n",
       "      <td>-5.0706</td>\n",
       "      <td>-4.7129</td>\n",
       "      <td>0.0</td>\n",
       "    </tr>\n",
       "    <tr>\n",
       "      <th>17791</th>\n",
       "      <td>138992.1875</td>\n",
       "      <td>-5.3808</td>\n",
       "      <td>-4.3541</td>\n",
       "      <td>-4.5516</td>\n",
       "      <td>-4.5956</td>\n",
       "      <td>-4.7995</td>\n",
       "      <td>-4.8576</td>\n",
       "      <td>-5.0088</td>\n",
       "      <td>-4.5402</td>\n",
       "      <td>-4.3856</td>\n",
       "      <td>-4.6403</td>\n",
       "      <td>-8.9463</td>\n",
       "      <td>-4.4052</td>\n",
       "      <td>-4.5743</td>\n",
       "      <td>-4.1756</td>\n",
       "      <td>0.0</td>\n",
       "    </tr>\n",
       "  </tbody>\n",
       "</table>\n",
       "<p>17792 rows × 16 columns</p>\n",
       "</div>"
      ],
      "text/plain": [
       "              Time       1       2       3        4       5       6        7  \\\n",
       "0           0.0000  6.9739  6.9322  7.1026   6.5821  1.7104  2.5049   6.7734   \n",
       "1           7.8125  7.9141  8.1761  7.8708   9.3562  2.8522  1.5386   0.0097   \n",
       "2          15.6250  7.3519  7.6082  6.8952  10.5481  3.3565  0.1431  -7.9001   \n",
       "3          23.4375  5.1758  5.0452  4.1830   9.5852  2.7879 -1.5613 -15.0065   \n",
       "4          31.2500  1.6995  0.8580  0.2629   6.3879  1.0203 -3.4012 -19.4232   \n",
       "...            ...     ...     ...     ...      ...     ...     ...      ...   \n",
       "17787  138960.9375 -6.0399 -4.8323 -5.0927  -4.9968 -4.8824 -5.0700  -5.0636   \n",
       "17788  138968.7500 -5.4750 -4.3214 -4.5884  -4.4572 -4.4641 -4.6841  -4.9248   \n",
       "17789  138976.5625 -5.7512 -4.5558 -4.8286  -4.7329 -4.8624 -5.0746  -5.4562   \n",
       "17790  138984.3750 -6.0096 -4.8120 -5.0684  -5.0460 -5.2511 -5.4070  -5.7562   \n",
       "17791  138992.1875 -5.3808 -4.3541 -4.5516  -4.5956 -4.7995 -4.8576  -5.0088   \n",
       "\n",
       "             8       9       10       11      12       13      14   15  \n",
       "0      14.2249  9.3461  12.6649   8.4581  7.2145  10.8199  7.6620  0.0  \n",
       "1       7.7515  9.0807  11.3698   9.8010  8.5768  13.4646  8.5372  0.0  \n",
       "2      -1.5285  6.7772   7.1663   8.7549  8.2436  12.8546  7.3061  0.0  \n",
       "3     -11.1183  2.7676   0.7851   5.0990  5.8934   8.6539  3.9140  0.0  \n",
       "4     -18.2671 -2.1636  -6.3391  -0.5606  1.7797   1.6455 -1.0385  0.0  \n",
       "...        ...     ...      ...      ...     ...      ...     ...  ...  \n",
       "17787  -5.1674 -4.8204  -5.4288 -10.1374 -5.5791  -5.2607 -5.0845  0.0  \n",
       "17788  -4.4180 -4.2093  -4.6997  -9.0893 -4.9611  -4.7169 -4.5362  0.0  \n",
       "17789  -4.5852 -4.4190  -4.7919  -9.5092 -4.9946  -4.8802 -4.6183  0.0  \n",
       "17790  -4.9003 -4.7309  -5.0272  -9.9559 -5.0331  -5.0706 -4.7129  0.0  \n",
       "17791  -4.5402 -4.3856  -4.6403  -8.9463 -4.4052  -4.5743 -4.1756  0.0  \n",
       "\n",
       "[17792 rows x 16 columns]"
      ]
     },
     "execution_count": 5,
     "metadata": {},
     "output_type": "execute_result"
    }
   ],
   "source": [
    "eeg_df"
   ]
  },
  {
   "cell_type": "code",
   "execution_count": 7,
   "metadata": {},
   "outputs": [
    {
     "data": {
      "text/plain": [
       "{'__header__': b'MATLAB 5.0 MAT-file, Platform: PCWIN64, Created on: Tue May 17 00:03:01 2022',\n",
       " '__version__': '1.0',\n",
       " '__globals__': [],\n",
       " 'events': array([[    1, 32769,   646,     1],\n",
       "        [    2, 33028,   902,     2],\n",
       "        [    3, 32779,  1030,     3],\n",
       "        [    4, 32780,  1670,     4],\n",
       "        [    5, 33026,  2310,     5],\n",
       "        [    6, 32779,  2438,     6],\n",
       "        [    7, 32780,  3078,     7],\n",
       "        [    8, 33027,  3718,     8],\n",
       "        [    9, 32779,  3846,     9],\n",
       "        [   10, 32780,  4486,    10],\n",
       "        [   11, 33029,  5126,    11],\n",
       "        [   12, 32779,  5254,    12],\n",
       "        [   13, 32780,  5894,    13],\n",
       "        [   14, 33025,  6534,    14],\n",
       "        [   15, 32779,  6662,    15],\n",
       "        [   16, 32780,  7302,    16],\n",
       "        [   17, 33026,  7942,    17],\n",
       "        [   18, 32779,  8070,    18],\n",
       "        [   19, 32780,  8710,    19],\n",
       "        [   20, 33029,  9350,    20],\n",
       "        [   21, 32779,  9478,    21],\n",
       "        [   22, 32780, 10118,    22],\n",
       "        [   23, 33028, 10758,    23],\n",
       "        [   24, 32779, 10886,    24],\n",
       "        [   25, 32780, 11526,    25],\n",
       "        [   26, 33026, 12166,    26],\n",
       "        [   27, 32779, 12294,    27],\n",
       "        [   28, 32780, 12934,    28],\n",
       "        [   29, 33027, 13574,    29],\n",
       "        [   30, 32779, 13702,    30],\n",
       "        [   31, 32780, 14342,    31],\n",
       "        [   32, 33025, 14982,    32],\n",
       "        [   33, 32779, 15110,    33],\n",
       "        [   34, 32780, 15750,    34],\n",
       "        [   35, 33029, 16390,    35],\n",
       "        [   36, 32779, 16518,    36],\n",
       "        [   37, 32780, 17158,    37]], dtype=uint16)}"
      ]
     },
     "execution_count": 7,
     "metadata": {},
     "output_type": "execute_result"
    }
   ],
   "source": [
    "dat"
   ]
  },
  {
   "cell_type": "code",
   "execution_count": 8,
   "metadata": {},
   "outputs": [
    {
     "name": "stdout",
     "output_type": "stream",
     "text": [
      "[[32769, 518, 1286], [32779, 902, 1670], [32779, 2310, 3078], [32779, 3718, 4486], [32779, 5126, 5894], [32779, 6534, 7302], [32779, 7942, 8710], [32779, 9350, 10118], [32779, 10758, 11526], [32779, 12166, 12934], [32779, 13574, 14342], [32779, 14982, 15750], [32779, 16390, 17158], [32780, 1542, 2310], [32780, 2950, 3718], [32780, 4358, 5126], [32780, 5766, 6534], [32780, 7174, 7942], [32780, 8582, 9350], [32780, 9990, 10758], [32780, 11398, 12166], [32780, 12806, 13574], [32780, 14214, 14982], [32780, 15622, 16390], [32780, 17030, 17798], [33025, 6406, 7174], [33025, 14854, 15622], [33026, 2182, 2950], [33026, 7814, 8582], [33026, 12038, 12806], [33027, 3590, 4358], [33027, 13446, 14214], [33028, 774, 1542], [33028, 10630, 11398], [33029, 4998, 5766], [33029, 9222, 9990], [33029, 16262, 17030]]\n"
     ]
    }
   ],
   "source": [
    "#interval = eeg[1,0]  #milliseconds\n",
    "\n",
    "epoch = []\n",
    "all_events = dat['events'][:]\n",
    "unique_events = np.unique(dat['events'][:,1])\n",
    "\n",
    "for event in (unique_events):\n",
    "    for i in all_events:\n",
    "        if(i[1] == event):\n",
    "            #print(i[2])\n",
    "            epoch.append([event,i[2]-128, i[2]+(128*5)])\n",
    "       \n",
    "print(epoch)"
   ]
  },
  {
   "cell_type": "code",
   "execution_count": 19,
   "metadata": {},
   "outputs": [
    {
     "data": {
      "text/plain": [
       "(17792, 16)"
      ]
     },
     "execution_count": 19,
     "metadata": {},
     "output_type": "execute_result"
    }
   ],
   "source": [
    "#Transform the eeg dataframe into array to perform np calculations if needed\n",
    "eeg = np.array(eeg_df)\n",
    "eeg.shape"
   ]
  },
  {
   "cell_type": "code",
   "execution_count": 20,
   "metadata": {},
   "outputs": [
    {
     "data": {
      "text/plain": [
       "138.9921875"
      ]
     },
     "execution_count": 20,
     "metadata": {},
     "output_type": "execute_result"
    }
   ],
   "source": [
    "# Length in seconds of the whole trial of a single .mat file\n",
    "seconds = (eeg[-1,0])/1000\n",
    "seconds"
   ]
  },
  {
   "cell_type": "code",
   "execution_count": 21,
   "metadata": {},
   "outputs": [
    {
     "data": {
      "text/plain": [
       "array([ 6.9739,  7.9141,  7.3519, ..., -5.7512, -6.0096, -5.3808])"
      ]
     },
     "execution_count": 21,
     "metadata": {},
     "output_type": "execute_result"
    }
   ],
   "source": [
    "# Variable for a single channel in the eeg dataframe/array to then plot the signal or to perform FFT to that specific channel\n",
    "x = eeg.T[1][:]\n",
    "x"
   ]
  },
  {
   "cell_type": "code",
   "execution_count": 22,
   "metadata": {},
   "outputs": [
    {
     "data": {
      "image/png": "[encoded data removed]",
      "text/plain": [
       "<Figure size 432x288 with 1 Axes>"
      ]
     },
     "metadata": {
      "needs_background": "light"
     },
     "output_type": "display_data"
    }
   ],
   "source": [
    "#Plotting the signal of the entire data of 1 channel in 1 .mat file:\n",
    "\n",
    "# sampling rate\n",
    "sr = 128\n",
    "# sampling interval\n",
    "ts = 1.0/sr\n",
    "t = np.arange(0,seconds+(1/seconds),ts) #use \"seconds variable for all seconds\"   ; +(1/seconds) = to make it the same dimension as \"x\". Don't know exactly why\n",
    "\n",
    "#plt.figure(figsize = (8, 6))\n",
    "plt.plot(t, x, 'r')\n",
    "plt.ylabel('Amplitude')\n",
    "plt.show()"
   ]
  },
  {
   "cell_type": "markdown",
   "metadata": {},
   "source": [
    "## FFT in Numpy"
   ]
  },
  {
   "cell_type": "code",
   "execution_count": 23,
   "metadata": {},
   "outputs": [
    {
     "name": "stderr",
     "output_type": "stream",
     "text": [
      "c:\\ProgramData\\Anaconda3\\lib\\site-packages\\numpy\\core\\_asarray.py:102: ComplexWarning: Casting complex values to real discards the imaginary part\n",
      "  return array(a, dtype, copy=False, order=order)\n"
     ]
    },
    {
     "data": {
      "image/png": "[encoded data removed]",
      "text/plain": [
       "<Figure size 864x432 with 2 Axes>"
      ]
     },
     "metadata": {
      "needs_background": "light"
     },
     "output_type": "display_data"
    }
   ],
   "source": [
    "from numpy.fft import fft, ifft\n",
    "\n",
    "X1 = fft(x)\n",
    "half = int(len(X1)/2) # to avoid mirrored image\n",
    "\n",
    "X = X1[:half]\n",
    "N = len(X)\n",
    "n = np.arange(N)\n",
    "T = N/sr\n",
    "freq = n/T \n",
    "\n",
    "#------------ FFT ------------:\n",
    "\n",
    "plt.figure(figsize = (12, 6))\n",
    "plt.subplot(121)\n",
    "\n",
    "#plt.stem is for vertical bar graphs:\n",
    "#plt.stem(freq[:half], np.abs(X), 'b', \\\n",
    "#         markerfmt=\" \", basefmt=\"-b\")\n",
    "\n",
    "plt.plot(freq[:half], np.abs(X), 'r')\n",
    "plt.xlabel('Freq (Hz)')\n",
    "plt.ylabel('FFT Amplitude |X(freq)|')\n",
    "plt.xlim(0, 20)\n",
    "\n",
    "#------------ Original Signal ------------:\n",
    "\n",
    "plt.subplot(122)\n",
    "plt.plot(t, ifft(X1), 'r')\n",
    "plt.xlabel('Time (s)')\n",
    "plt.ylabel('Amplitude')\n",
    "plt.tight_layout()\n",
    "plt.show()"
   ]
  },
  {
   "cell_type": "code",
   "execution_count": 24,
   "metadata": {},
   "outputs": [
    {
     "data": {
      "text/plain": [
       "(1573, 22.633093525179856)"
      ]
     },
     "execution_count": 24,
     "metadata": {},
     "output_type": "execute_result"
    }
   ],
   "source": [
    "# Obtain the index (in the x axis) and the value of the highest Frequency in this calculation:\n",
    "peak_idx = np.argmax(np.abs(X), axis=0)\n",
    "peak_freq = freq[peak_idx]\n",
    "peak_idx , peak_freq"
   ]
  },
  {
   "cell_type": "code",
   "execution_count": null,
   "metadata": {},
   "outputs": [],
   "source": []
  },
  {
   "cell_type": "code",
   "execution_count": null,
   "metadata": {},
   "outputs": [],
   "source": []
  }
 ],
 "metadata": {
  "interpreter": {
   "hash": "ad2bdc8ecc057115af97d19610ffacc2b4e99fae6737bb82f5d7fb13d2f2c186"
  },
  "kernelspec": {
   "display_name": "Python 3.8.8 ('base')",
   "language": "python",
   "name": "python3"
  },
  "language_info": {
   "codemirror_mode": {
    "name": "ipython",
    "version": 3
   },
   "file_extension": ".py",
   "mimetype": "text/x-python",
   "name": "python",
   "nbconvert_exporter": "python",
   "pygments_lexer": "ipython3",
   "version": "3.8.8"
  },
  "orig_nbformat": 4
 },
 "nbformat": 4,
 "nbformat_minor": 2
}
